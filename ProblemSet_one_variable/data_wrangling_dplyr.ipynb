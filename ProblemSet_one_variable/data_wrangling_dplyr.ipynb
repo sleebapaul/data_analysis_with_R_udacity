{
 "cells": [
  {
   "cell_type": "code",
   "execution_count": 3,
   "metadata": {
    "collapsed": false
   },
   "outputs": [],
   "source": [
    "library(dplyr)\n",
    "library(tidyr)\n",
    "library(ggplot2)"
   ]
  },
  {
   "cell_type": "code",
   "execution_count": 4,
   "metadata": {
    "collapsed": false
   },
   "outputs": [],
   "source": [
    "data(diamonds)"
   ]
  },
  {
   "cell_type": "code",
   "execution_count": 7,
   "metadata": {
    "collapsed": false
   },
   "outputs": [],
   "source": [
    "new <- select(diamonds, color, carat)"
   ]
  },
  {
   "cell_type": "code",
   "execution_count": 9,
   "metadata": {
    "collapsed": false
   },
   "outputs": [
    {
     "data": {
      "text/html": [
       "<table>\n",
       "<thead><tr><th scope=col>carat</th><th scope=col>cut</th><th scope=col>color</th><th scope=col>clarity</th><th scope=col>depth</th><th scope=col>table</th><th scope=col>price</th><th scope=col>x</th><th scope=col>y</th><th scope=col>z</th></tr></thead>\n",
       "<tbody>\n",
       "\t<tr><td>0.23     </td><td>Ideal    </td><td>E        </td><td>SI2      </td><td>61.5     </td><td>55       </td><td>326      </td><td>3.95     </td><td>3.98     </td><td>2.43     </td></tr>\n",
       "\t<tr><td>0.21     </td><td>Premium  </td><td>E        </td><td>SI1      </td><td>59.8     </td><td>61       </td><td>326      </td><td>3.89     </td><td>3.84     </td><td>2.31     </td></tr>\n",
       "\t<tr><td>0.23     </td><td>Good     </td><td>E        </td><td>VS1      </td><td>56.9     </td><td>65       </td><td>327      </td><td>4.05     </td><td>4.07     </td><td>2.31     </td></tr>\n",
       "\t<tr><td>0.29     </td><td>Premium  </td><td>I        </td><td>VS2      </td><td>62.4     </td><td>58       </td><td>334      </td><td>4.20     </td><td>4.23     </td><td>2.63     </td></tr>\n",
       "\t<tr><td>0.31     </td><td>Good     </td><td>J        </td><td>SI2      </td><td>63.3     </td><td>58       </td><td>335      </td><td>4.34     </td><td>4.35     </td><td>2.75     </td></tr>\n",
       "\t<tr><td>0.24     </td><td>Very Good</td><td>J        </td><td>VVS2     </td><td>62.8     </td><td>57       </td><td>336      </td><td>3.94     </td><td>3.96     </td><td>2.48     </td></tr>\n",
       "</tbody>\n",
       "</table>\n"
      ],
      "text/latex": [
       "\\begin{tabular}{r|llllllllll}\n",
       " carat & cut & color & clarity & depth & table & price & x & y & z\\\\\n",
       "\\hline\n",
       "\t 0.23      & Ideal     & E         & SI2       & 61.5      & 55        & 326       & 3.95      & 3.98      & 2.43     \\\\\n",
       "\t 0.21      & Premium   & E         & SI1       & 59.8      & 61        & 326       & 3.89      & 3.84      & 2.31     \\\\\n",
       "\t 0.23      & Good      & E         & VS1       & 56.9      & 65        & 327       & 4.05      & 4.07      & 2.31     \\\\\n",
       "\t 0.29      & Premium   & I         & VS2       & 62.4      & 58        & 334       & 4.20      & 4.23      & 2.63     \\\\\n",
       "\t 0.31      & Good      & J         & SI2       & 63.3      & 58        & 335       & 4.34      & 4.35      & 2.75     \\\\\n",
       "\t 0.24      & Very Good & J         & VVS2      & 62.8      & 57        & 336       & 3.94      & 3.96      & 2.48     \\\\\n",
       "\\end{tabular}\n"
      ],
      "text/markdown": [
       "\n",
       "carat | cut | color | clarity | depth | table | price | x | y | z | \n",
       "|---|---|---|---|---|---|\n",
       "| 0.23      | Ideal     | E         | SI2       | 61.5      | 55        | 326       | 3.95      | 3.98      | 2.43      | \n",
       "| 0.21      | Premium   | E         | SI1       | 59.8      | 61        | 326       | 3.89      | 3.84      | 2.31      | \n",
       "| 0.23      | Good      | E         | VS1       | 56.9      | 65        | 327       | 4.05      | 4.07      | 2.31      | \n",
       "| 0.29      | Premium   | I         | VS2       | 62.4      | 58        | 334       | 4.20      | 4.23      | 2.63      | \n",
       "| 0.31      | Good      | J         | SI2       | 63.3      | 58        | 335       | 4.34      | 4.35      | 2.75      | \n",
       "| 0.24      | Very Good | J         | VVS2      | 62.8      | 57        | 336       | 3.94      | 3.96      | 2.48      | \n",
       "\n",
       "\n"
      ],
      "text/plain": [
       "  carat cut       color clarity depth table price x    y    z   \n",
       "1 0.23  Ideal     E     SI2     61.5  55    326   3.95 3.98 2.43\n",
       "2 0.21  Premium   E     SI1     59.8  61    326   3.89 3.84 2.31\n",
       "3 0.23  Good      E     VS1     56.9  65    327   4.05 4.07 2.31\n",
       "4 0.29  Premium   I     VS2     62.4  58    334   4.20 4.23 2.63\n",
       "5 0.31  Good      J     SI2     63.3  58    335   4.34 4.35 2.75\n",
       "6 0.24  Very Good J     VVS2    62.8  57    336   3.94 3.96 2.48"
      ]
     },
     "metadata": {},
     "output_type": "display_data"
    }
   ],
   "source": [
    "head(diamonds)"
   ]
  },
  {
   "cell_type": "code",
   "execution_count": 10,
   "metadata": {
    "collapsed": false
   },
   "outputs": [
    {
     "data": {
      "text/html": [
       "<table>\n",
       "<thead><tr><th scope=col>carat</th><th scope=col>color</th><th scope=col>clarity</th><th scope=col>depth</th><th scope=col>table</th><th scope=col>price</th><th scope=col>x</th><th scope=col>y</th><th scope=col>z</th></tr></thead>\n",
       "<tbody>\n",
       "\t<tr><td>0.23</td><td>E   </td><td>SI2 </td><td>61.5</td><td>55  </td><td>326 </td><td>3.95</td><td>3.98</td><td>2.43</td></tr>\n",
       "\t<tr><td>0.21</td><td>E   </td><td>SI1 </td><td>59.8</td><td>61  </td><td>326 </td><td>3.89</td><td>3.84</td><td>2.31</td></tr>\n",
       "\t<tr><td>0.23</td><td>E   </td><td>VS1 </td><td>56.9</td><td>65  </td><td>327 </td><td>4.05</td><td>4.07</td><td>2.31</td></tr>\n",
       "\t<tr><td>0.29</td><td>I   </td><td>VS2 </td><td>62.4</td><td>58  </td><td>334 </td><td>4.20</td><td>4.23</td><td>2.63</td></tr>\n",
       "\t<tr><td>0.31</td><td>J   </td><td>SI2 </td><td>63.3</td><td>58  </td><td>335 </td><td>4.34</td><td>4.35</td><td>2.75</td></tr>\n",
       "\t<tr><td>0.24</td><td>J   </td><td>VVS2</td><td>62.8</td><td>57  </td><td>336 </td><td>3.94</td><td>3.96</td><td>2.48</td></tr>\n",
       "</tbody>\n",
       "</table>\n"
      ],
      "text/latex": [
       "\\begin{tabular}{r|lllllllll}\n",
       " carat & color & clarity & depth & table & price & x & y & z\\\\\n",
       "\\hline\n",
       "\t 0.23 & E    & SI2  & 61.5 & 55   & 326  & 3.95 & 3.98 & 2.43\\\\\n",
       "\t 0.21 & E    & SI1  & 59.8 & 61   & 326  & 3.89 & 3.84 & 2.31\\\\\n",
       "\t 0.23 & E    & VS1  & 56.9 & 65   & 327  & 4.05 & 4.07 & 2.31\\\\\n",
       "\t 0.29 & I    & VS2  & 62.4 & 58   & 334  & 4.20 & 4.23 & 2.63\\\\\n",
       "\t 0.31 & J    & SI2  & 63.3 & 58   & 335  & 4.34 & 4.35 & 2.75\\\\\n",
       "\t 0.24 & J    & VVS2 & 62.8 & 57   & 336  & 3.94 & 3.96 & 2.48\\\\\n",
       "\\end{tabular}\n"
      ],
      "text/markdown": [
       "\n",
       "carat | color | clarity | depth | table | price | x | y | z | \n",
       "|---|---|---|---|---|---|\n",
       "| 0.23 | E    | SI2  | 61.5 | 55   | 326  | 3.95 | 3.98 | 2.43 | \n",
       "| 0.21 | E    | SI1  | 59.8 | 61   | 326  | 3.89 | 3.84 | 2.31 | \n",
       "| 0.23 | E    | VS1  | 56.9 | 65   | 327  | 4.05 | 4.07 | 2.31 | \n",
       "| 0.29 | I    | VS2  | 62.4 | 58   | 334  | 4.20 | 4.23 | 2.63 | \n",
       "| 0.31 | J    | SI2  | 63.3 | 58   | 335  | 4.34 | 4.35 | 2.75 | \n",
       "| 0.24 | J    | VVS2 | 62.8 | 57   | 336  | 3.94 | 3.96 | 2.48 | \n",
       "\n",
       "\n"
      ],
      "text/plain": [
       "  carat color clarity depth table price x    y    z   \n",
       "1 0.23  E     SI2     61.5  55    326   3.95 3.98 2.43\n",
       "2 0.21  E     SI1     59.8  61    326   3.89 3.84 2.31\n",
       "3 0.23  E     VS1     56.9  65    327   4.05 4.07 2.31\n",
       "4 0.29  I     VS2     62.4  58    334   4.20 4.23 2.63\n",
       "5 0.31  J     SI2     63.3  58    335   4.34 4.35 2.75\n",
       "6 0.24  J     VVS2    62.8  57    336   3.94 3.96 2.48"
      ]
     },
     "metadata": {},
     "output_type": "display_data"
    }
   ],
   "source": [
    "head(select(diamonds,-cut))"
   ]
  },
  {
   "cell_type": "code",
   "execution_count": 11,
   "metadata": {
    "collapsed": false
   },
   "outputs": [
    {
     "data": {
      "text/html": [
       "<table>\n",
       "<thead><tr><th scope=col>carat</th><th scope=col>cut</th><th scope=col>color</th><th scope=col>clarity</th><th scope=col>depth</th></tr></thead>\n",
       "<tbody>\n",
       "\t<tr><td>0.23     </td><td>Ideal    </td><td>E        </td><td>SI2      </td><td>61.5     </td></tr>\n",
       "\t<tr><td>0.21     </td><td>Premium  </td><td>E        </td><td>SI1      </td><td>59.8     </td></tr>\n",
       "\t<tr><td>0.23     </td><td>Good     </td><td>E        </td><td>VS1      </td><td>56.9     </td></tr>\n",
       "\t<tr><td>0.29     </td><td>Premium  </td><td>I        </td><td>VS2      </td><td>62.4     </td></tr>\n",
       "\t<tr><td>0.31     </td><td>Good     </td><td>J        </td><td>SI2      </td><td>63.3     </td></tr>\n",
       "\t<tr><td>0.24     </td><td>Very Good</td><td>J        </td><td>VVS2     </td><td>62.8     </td></tr>\n",
       "</tbody>\n",
       "</table>\n"
      ],
      "text/latex": [
       "\\begin{tabular}{r|lllll}\n",
       " carat & cut & color & clarity & depth\\\\\n",
       "\\hline\n",
       "\t 0.23      & Ideal     & E         & SI2       & 61.5     \\\\\n",
       "\t 0.21      & Premium   & E         & SI1       & 59.8     \\\\\n",
       "\t 0.23      & Good      & E         & VS1       & 56.9     \\\\\n",
       "\t 0.29      & Premium   & I         & VS2       & 62.4     \\\\\n",
       "\t 0.31      & Good      & J         & SI2       & 63.3     \\\\\n",
       "\t 0.24      & Very Good & J         & VVS2      & 62.8     \\\\\n",
       "\\end{tabular}\n"
      ],
      "text/markdown": [
       "\n",
       "carat | cut | color | clarity | depth | \n",
       "|---|---|---|---|---|---|\n",
       "| 0.23      | Ideal     | E         | SI2       | 61.5      | \n",
       "| 0.21      | Premium   | E         | SI1       | 59.8      | \n",
       "| 0.23      | Good      | E         | VS1       | 56.9      | \n",
       "| 0.29      | Premium   | I         | VS2       | 62.4      | \n",
       "| 0.31      | Good      | J         | SI2       | 63.3      | \n",
       "| 0.24      | Very Good | J         | VVS2      | 62.8      | \n",
       "\n",
       "\n"
      ],
      "text/plain": [
       "  carat cut       color clarity depth\n",
       "1 0.23  Ideal     E     SI2     61.5 \n",
       "2 0.21  Premium   E     SI1     59.8 \n",
       "3 0.23  Good      E     VS1     56.9 \n",
       "4 0.29  Premium   I     VS2     62.4 \n",
       "5 0.31  Good      J     SI2     63.3 \n",
       "6 0.24  Very Good J     VVS2    62.8 "
      ]
     },
     "metadata": {},
     "output_type": "display_data"
    }
   ],
   "source": [
    "head(select(diamonds,carat:depth))"
   ]
  },
  {
   "cell_type": "code",
   "execution_count": 12,
   "metadata": {
    "collapsed": false
   },
   "outputs": [
    {
     "data": {
      "text/html": [
       "<table>\n",
       "<thead><tr><th scope=col>carat</th><th scope=col>cut</th><th scope=col>color</th><th scope=col>clarity</th></tr></thead>\n",
       "<tbody>\n",
       "\t<tr><td>0.23     </td><td>Ideal    </td><td>E        </td><td>SI2      </td></tr>\n",
       "\t<tr><td>0.21     </td><td>Premium  </td><td>E        </td><td>SI1      </td></tr>\n",
       "\t<tr><td>0.23     </td><td>Good     </td><td>E        </td><td>VS1      </td></tr>\n",
       "\t<tr><td>0.29     </td><td>Premium  </td><td>I        </td><td>VS2      </td></tr>\n",
       "\t<tr><td>0.31     </td><td>Good     </td><td>J        </td><td>SI2      </td></tr>\n",
       "\t<tr><td>0.24     </td><td>Very Good</td><td>J        </td><td>VVS2     </td></tr>\n",
       "</tbody>\n",
       "</table>\n"
      ],
      "text/latex": [
       "\\begin{tabular}{r|llll}\n",
       " carat & cut & color & clarity\\\\\n",
       "\\hline\n",
       "\t 0.23      & Ideal     & E         & SI2      \\\\\n",
       "\t 0.21      & Premium   & E         & SI1      \\\\\n",
       "\t 0.23      & Good      & E         & VS1      \\\\\n",
       "\t 0.29      & Premium   & I         & VS2      \\\\\n",
       "\t 0.31      & Good      & J         & SI2      \\\\\n",
       "\t 0.24      & Very Good & J         & VVS2     \\\\\n",
       "\\end{tabular}\n"
      ],
      "text/markdown": [
       "\n",
       "carat | cut | color | clarity | \n",
       "|---|---|---|---|---|---|\n",
       "| 0.23      | Ideal     | E         | SI2       | \n",
       "| 0.21      | Premium   | E         | SI1       | \n",
       "| 0.23      | Good      | E         | VS1       | \n",
       "| 0.29      | Premium   | I         | VS2       | \n",
       "| 0.31      | Good      | J         | SI2       | \n",
       "| 0.24      | Very Good | J         | VVS2      | \n",
       "\n",
       "\n"
      ],
      "text/plain": [
       "  carat cut       color clarity\n",
       "1 0.23  Ideal     E     SI2    \n",
       "2 0.21  Premium   E     SI1    \n",
       "3 0.23  Good      E     VS1    \n",
       "4 0.29  Premium   I     VS2    \n",
       "5 0.31  Good      J     SI2    \n",
       "6 0.24  Very Good J     VVS2   "
      ]
     },
     "metadata": {},
     "output_type": "display_data"
    }
   ],
   "source": [
    "head(select(diamonds, starts_with(\"c\")))"
   ]
  },
  {
   "cell_type": "markdown",
   "metadata": {},
   "source": [
    "ends_with() = Select columns that end with a character string\n",
    "\n",
    "contains() = Select columns that contain a character string\n",
    "\n",
    "matches() = Select columns that match a regular expression\n",
    "\n",
    "one_of() = Select columns names that are from a group of names"
   ]
  },
  {
   "cell_type": "markdown",
   "metadata": {},
   "source": [
    "# Selecting rows using filter()"
   ]
  },
  {
   "cell_type": "code",
   "execution_count": 16,
   "metadata": {
    "collapsed": false
   },
   "outputs": [],
   "source": [
    "sample<-filter(diamonds, color=='D')"
   ]
  },
  {
   "cell_type": "code",
   "execution_count": 22,
   "metadata": {
    "collapsed": false
   },
   "outputs": [
    {
     "data": {
      "text/html": [
       "<table>\n",
       "<thead><tr><th scope=col>carat</th><th scope=col>cut</th><th scope=col>color</th><th scope=col>clarity</th><th scope=col>depth</th><th scope=col>table</th><th scope=col>price</th><th scope=col>x</th><th scope=col>y</th><th scope=col>z</th></tr></thead>\n",
       "<tbody>\n",
       "\t<tr><td>0.30 </td><td>Ideal</td><td>D    </td><td>SI1  </td><td>62.5 </td><td>57   </td><td> 552 </td><td>4.29 </td><td>4.32 </td><td>2.69 </td></tr>\n",
       "\t<tr><td>0.30 </td><td>Ideal</td><td>D    </td><td>SI1  </td><td>62.1 </td><td>56   </td><td> 552 </td><td>4.30 </td><td>4.33 </td><td>2.68 </td></tr>\n",
       "\t<tr><td>0.71 </td><td>Ideal</td><td>D    </td><td>SI2  </td><td>62.3 </td><td>56   </td><td>2762 </td><td>5.73 </td><td>5.69 </td><td>3.56 </td></tr>\n",
       "\t<tr><td>0.71 </td><td>Ideal</td><td>D    </td><td>SI1  </td><td>61.9 </td><td>59   </td><td>2764 </td><td>5.69 </td><td>5.72 </td><td>3.53 </td></tr>\n",
       "\t<tr><td>0.71 </td><td>Ideal</td><td>D    </td><td>SI2  </td><td>61.6 </td><td>55   </td><td>2767 </td><td>5.74 </td><td>5.76 </td><td>3.54 </td></tr>\n",
       "\t<tr><td>0.76 </td><td>Ideal</td><td>D    </td><td>SI2  </td><td>62.4 </td><td>57   </td><td>2770 </td><td>5.78 </td><td>5.83 </td><td>3.62 </td></tr>\n",
       "\t<tr><td>0.73 </td><td>Ideal</td><td>D    </td><td>SI2  </td><td>59.9 </td><td>57   </td><td>2770 </td><td>5.92 </td><td>5.89 </td><td>3.54 </td></tr>\n",
       "\t<tr><td>0.75 </td><td>Ideal</td><td>D    </td><td>SI2  </td><td>61.3 </td><td>56   </td><td>2773 </td><td>5.85 </td><td>5.89 </td><td>3.60 </td></tr>\n",
       "\t<tr><td>0.72 </td><td>Ideal</td><td>D    </td><td>SI1  </td><td>60.8 </td><td>57   </td><td>2782 </td><td>5.76 </td><td>5.75 </td><td>3.50 </td></tr>\n",
       "\t<tr><td>0.64 </td><td>Ideal</td><td>D    </td><td>VS1  </td><td>61.5 </td><td>56   </td><td>2787 </td><td>5.54 </td><td>5.55 </td><td>3.41 </td></tr>\n",
       "\t<tr><td>0.51 </td><td>Ideal</td><td>D    </td><td>VVS1 </td><td>61.7 </td><td>56   </td><td>2797 </td><td>5.12 </td><td>5.16 </td><td>3.17 </td></tr>\n",
       "\t<tr><td>0.78 </td><td>Ideal</td><td>D    </td><td>SI1  </td><td>61.9 </td><td>57   </td><td>2799 </td><td>5.91 </td><td>5.86 </td><td>3.64 </td></tr>\n",
       "\t<tr><td>0.91 </td><td>Ideal</td><td>D    </td><td>SI2  </td><td>62.2 </td><td>57   </td><td>2803 </td><td>6.21 </td><td>6.15 </td><td>3.85 </td></tr>\n",
       "\t<tr><td>0.70 </td><td>Ideal</td><td>D    </td><td>SI1  </td><td>61.0 </td><td>59   </td><td>2804 </td><td>5.68 </td><td>5.70 </td><td>3.47 </td></tr>\n",
       "\t<tr><td>0.72 </td><td>Ideal</td><td>D    </td><td>SI1  </td><td>62.2 </td><td>56   </td><td>2804 </td><td>5.74 </td><td>5.77 </td><td>3.58 </td></tr>\n",
       "\t<tr><td>0.72 </td><td>Ideal</td><td>D    </td><td>SI1  </td><td>61.5 </td><td>54   </td><td>2804 </td><td>5.77 </td><td>5.80 </td><td>3.56 </td></tr>\n",
       "\t<tr><td>0.74 </td><td>Ideal</td><td>D    </td><td>SI2  </td><td>61.7 </td><td>55   </td><td>2810 </td><td>5.81 </td><td>5.85 </td><td>3.60 </td></tr>\n",
       "\t<tr><td>0.71 </td><td>Ideal</td><td>D    </td><td>SI1  </td><td>62.4 </td><td>57   </td><td>2812 </td><td>5.69 </td><td>5.72 </td><td>3.56 </td></tr>\n",
       "\t<tr><td>0.70 </td><td>Ideal</td><td>D    </td><td>SI1  </td><td>60.7 </td><td>56   </td><td>2822 </td><td>5.75 </td><td>5.72 </td><td>3.48 </td></tr>\n",
       "\t<tr><td>0.71 </td><td>Ideal</td><td>D    </td><td>SI1  </td><td>60.2 </td><td>56   </td><td>2822 </td><td>5.86 </td><td>5.83 </td><td>3.52 </td></tr>\n",
       "\t<tr><td>0.70 </td><td>Ideal</td><td>D    </td><td>SI1  </td><td>59.7 </td><td>58   </td><td>2822 </td><td>5.82 </td><td>5.77 </td><td>3.46 </td></tr>\n",
       "\t<tr><td>0.70 </td><td>Ideal</td><td>D    </td><td>SI1  </td><td>62.5 </td><td>57   </td><td>2822 </td><td>5.62 </td><td>5.59 </td><td>3.51 </td></tr>\n",
       "\t<tr><td>0.70 </td><td>Ideal</td><td>D    </td><td>SI1  </td><td>61.8 </td><td>56   </td><td>2822 </td><td>5.73 </td><td>5.63 </td><td>3.51 </td></tr>\n",
       "\t<tr><td>0.70 </td><td>Ideal</td><td>D    </td><td>SI1  </td><td>61.4 </td><td>54   </td><td>2822 </td><td>5.75 </td><td>5.71 </td><td>3.52 </td></tr>\n",
       "\t<tr><td>0.70 </td><td>Ideal</td><td>D    </td><td>SI2  </td><td>60.6 </td><td>57   </td><td>2828 </td><td>5.74 </td><td>5.77 </td><td>3.49 </td></tr>\n",
       "\t<tr><td>0.70 </td><td>Ideal</td><td>D    </td><td>VS2  </td><td>61.0 </td><td>57   </td><td>2833 </td><td>5.74 </td><td>5.76 </td><td>3.51 </td></tr>\n",
       "\t<tr><td>0.92 </td><td>Ideal</td><td>D    </td><td>SI2  </td><td>61.9 </td><td>56   </td><td>2840 </td><td>6.27 </td><td>6.20 </td><td>3.86 </td></tr>\n",
       "\t<tr><td>0.73 </td><td>Ideal</td><td>D    </td><td>SI1  </td><td>61.4 </td><td>57   </td><td>2841 </td><td>5.76 </td><td>5.80 </td><td>3.55 </td></tr>\n",
       "\t<tr><td>0.79 </td><td>Ideal</td><td>D    </td><td>SI1  </td><td>61.5 </td><td>56   </td><td>2846 </td><td>5.96 </td><td>5.91 </td><td>3.65 </td></tr>\n",
       "\t<tr><td>0.54 </td><td>Ideal</td><td>D    </td><td>VVS2 </td><td>61.5 </td><td>55   </td><td>2848 </td><td>5.25 </td><td>5.29 </td><td>3.24 </td></tr>\n",
       "\t<tr><td>...</td><td>...</td><td>...</td><td>...</td><td>...</td><td>...</td><td>...</td><td>...</td><td>...</td><td>...</td></tr>\n",
       "\t<tr><td>0.30 </td><td>Ideal</td><td>D    </td><td>SI1  </td><td>61.9 </td><td>56   </td><td> 552 </td><td>4.28 </td><td>4.31 </td><td>2.66 </td></tr>\n",
       "\t<tr><td>0.30 </td><td>Ideal</td><td>D    </td><td>SI1  </td><td>62.0 </td><td>56   </td><td> 552 </td><td>4.30 </td><td>4.34 </td><td>2.68 </td></tr>\n",
       "\t<tr><td>0.30 </td><td>Ideal</td><td>D    </td><td>SI1  </td><td>61.0 </td><td>54   </td><td> 552 </td><td>4.34 </td><td>4.35 </td><td>2.65 </td></tr>\n",
       "\t<tr><td>0.30 </td><td>Ideal</td><td>D    </td><td>SI1  </td><td>61.9 </td><td>54   </td><td> 552 </td><td>4.32 </td><td>4.34 </td><td>2.68 </td></tr>\n",
       "\t<tr><td>0.30 </td><td>Ideal</td><td>D    </td><td>SI1  </td><td>61.6 </td><td>56   </td><td> 552 </td><td>4.30 </td><td>4.34 </td><td>2.66 </td></tr>\n",
       "\t<tr><td>0.30 </td><td>Ideal</td><td>D    </td><td>SI1  </td><td>61.6 </td><td>57   </td><td> 552 </td><td>4.28 </td><td>4.32 </td><td>2.65 </td></tr>\n",
       "\t<tr><td>0.30 </td><td>Ideal</td><td>D    </td><td>SI1  </td><td>61.0 </td><td>57   </td><td> 552 </td><td>4.29 </td><td>4.33 </td><td>2.63 </td></tr>\n",
       "\t<tr><td>0.30 </td><td>Ideal</td><td>D    </td><td>SI1  </td><td>61.0 </td><td>56   </td><td> 552 </td><td>4.35 </td><td>4.37 </td><td>2.66 </td></tr>\n",
       "\t<tr><td>0.76 </td><td>Ideal</td><td>D    </td><td>SI2  </td><td>62.2 </td><td>57   </td><td>2706 </td><td>5.85 </td><td>5.83 </td><td>3.63 </td></tr>\n",
       "\t<tr><td>0.73 </td><td>Ideal</td><td>D    </td><td>SI2  </td><td>62.4 </td><td>56   </td><td>2707 </td><td>5.77 </td><td>5.74 </td><td>3.59 </td></tr>\n",
       "\t<tr><td>0.51 </td><td>Ideal</td><td>D    </td><td>VVS2 </td><td>61.7 </td><td>56   </td><td>2718 </td><td>5.14 </td><td>5.16 </td><td>3.18 </td></tr>\n",
       "\t<tr><td>0.51 </td><td>Ideal</td><td>D    </td><td>VVS2 </td><td>61.3 </td><td>57   </td><td>2718 </td><td>5.14 </td><td>5.17 </td><td>3.16 </td></tr>\n",
       "\t<tr><td>0.71 </td><td>Ideal</td><td>D    </td><td>SI1  </td><td>62.5 </td><td>55   </td><td>2719 </td><td>5.69 </td><td>5.74 </td><td>3.57 </td></tr>\n",
       "\t<tr><td>0.71 </td><td>Ideal</td><td>D    </td><td>SI1  </td><td>61.5 </td><td>56   </td><td>2719 </td><td>5.70 </td><td>5.75 </td><td>3.52 </td></tr>\n",
       "\t<tr><td>0.55 </td><td>Ideal</td><td>D    </td><td>VVS2 </td><td>61.6 </td><td>56   </td><td>2720 </td><td>5.23 </td><td>5.29 </td><td>3.24 </td></tr>\n",
       "\t<tr><td>0.78 </td><td>Ideal</td><td>D    </td><td>SI2  </td><td>61.3 </td><td>56   </td><td>2722 </td><td>5.95 </td><td>5.99 </td><td>3.66 </td></tr>\n",
       "\t<tr><td>0.74 </td><td>Ideal</td><td>D    </td><td>SI1  </td><td>62.2 </td><td>56   </td><td>2723 </td><td>5.82 </td><td>5.78 </td><td>3.61 </td></tr>\n",
       "\t<tr><td>0.75 </td><td>Ideal</td><td>D    </td><td>SI2  </td><td>60.3 </td><td>57   </td><td>2726 </td><td>5.85 </td><td>5.89 </td><td>3.54 </td></tr>\n",
       "\t<tr><td>0.70 </td><td>Ideal</td><td>D    </td><td>SI1  </td><td>62.3 </td><td>53   </td><td>2726 </td><td>5.70 </td><td>5.72 </td><td>3.56 </td></tr>\n",
       "\t<tr><td>0.70 </td><td>Ideal</td><td>D    </td><td>SI1  </td><td>62.0 </td><td>54   </td><td>2726 </td><td>5.73 </td><td>5.76 </td><td>3.56 </td></tr>\n",
       "\t<tr><td>0.70 </td><td>Ideal</td><td>D    </td><td>SI1  </td><td>62.5 </td><td>55   </td><td>2726 </td><td>5.68 </td><td>5.72 </td><td>3.56 </td></tr>\n",
       "\t<tr><td>0.73 </td><td>Ideal</td><td>D    </td><td>SI2  </td><td>61.8 </td><td>56   </td><td>2729 </td><td>5.77 </td><td>5.82 </td><td>3.58 </td></tr>\n",
       "\t<tr><td>0.72 </td><td>Ideal</td><td>D    </td><td>SI1  </td><td>61.6 </td><td>55   </td><td>2731 </td><td>5.75 </td><td>5.80 </td><td>3.56 </td></tr>\n",
       "\t<tr><td>0.53 </td><td>Ideal</td><td>D    </td><td>VVS1 </td><td>62.0 </td><td>57   </td><td>2732 </td><td>5.16 </td><td>5.20 </td><td>3.21 </td></tr>\n",
       "\t<tr><td>0.56 </td><td>Ideal</td><td>D    </td><td>VS1  </td><td>61.1 </td><td>56   </td><td>2741 </td><td>5.30 </td><td>5.33 </td><td>3.25 </td></tr>\n",
       "\t<tr><td>0.51 </td><td>Ideal</td><td>D    </td><td>VVS2 </td><td>61.7 </td><td>56   </td><td>2742 </td><td>5.16 </td><td>5.14 </td><td>3.18 </td></tr>\n",
       "\t<tr><td>0.51 </td><td>Ideal</td><td>D    </td><td>VVS2 </td><td>61.3 </td><td>57   </td><td>2742 </td><td>5.17 </td><td>5.14 </td><td>3.16 </td></tr>\n",
       "\t<tr><td>0.81 </td><td>Ideal</td><td>D    </td><td>SI1  </td><td>61.5 </td><td>57   </td><td>2748 </td><td>6.00 </td><td>6.03 </td><td>3.70 </td></tr>\n",
       "\t<tr><td>0.72 </td><td>Ideal</td><td>D    </td><td>SI1  </td><td>60.8 </td><td>57   </td><td>2757 </td><td>5.75 </td><td>5.76 </td><td>3.50 </td></tr>\n",
       "\t<tr><td>0.75 </td><td>Ideal</td><td>D    </td><td>SI2  </td><td>62.2 </td><td>55   </td><td>2757 </td><td>5.83 </td><td>5.87 </td><td>3.64 </td></tr>\n",
       "</tbody>\n",
       "</table>\n"
      ],
      "text/latex": [
       "\\begin{tabular}{r|llllllllll}\n",
       " carat & cut & color & clarity & depth & table & price & x & y & z\\\\\n",
       "\\hline\n",
       "\t 0.30  & Ideal & D     & SI1   & 62.5  & 57    &  552  & 4.29  & 4.32  & 2.69 \\\\\n",
       "\t 0.30  & Ideal & D     & SI1   & 62.1  & 56    &  552  & 4.30  & 4.33  & 2.68 \\\\\n",
       "\t 0.71  & Ideal & D     & SI2   & 62.3  & 56    & 2762  & 5.73  & 5.69  & 3.56 \\\\\n",
       "\t 0.71  & Ideal & D     & SI1   & 61.9  & 59    & 2764  & 5.69  & 5.72  & 3.53 \\\\\n",
       "\t 0.71  & Ideal & D     & SI2   & 61.6  & 55    & 2767  & 5.74  & 5.76  & 3.54 \\\\\n",
       "\t 0.76  & Ideal & D     & SI2   & 62.4  & 57    & 2770  & 5.78  & 5.83  & 3.62 \\\\\n",
       "\t 0.73  & Ideal & D     & SI2   & 59.9  & 57    & 2770  & 5.92  & 5.89  & 3.54 \\\\\n",
       "\t 0.75  & Ideal & D     & SI2   & 61.3  & 56    & 2773  & 5.85  & 5.89  & 3.60 \\\\\n",
       "\t 0.72  & Ideal & D     & SI1   & 60.8  & 57    & 2782  & 5.76  & 5.75  & 3.50 \\\\\n",
       "\t 0.64  & Ideal & D     & VS1   & 61.5  & 56    & 2787  & 5.54  & 5.55  & 3.41 \\\\\n",
       "\t 0.51  & Ideal & D     & VVS1  & 61.7  & 56    & 2797  & 5.12  & 5.16  & 3.17 \\\\\n",
       "\t 0.78  & Ideal & D     & SI1   & 61.9  & 57    & 2799  & 5.91  & 5.86  & 3.64 \\\\\n",
       "\t 0.91  & Ideal & D     & SI2   & 62.2  & 57    & 2803  & 6.21  & 6.15  & 3.85 \\\\\n",
       "\t 0.70  & Ideal & D     & SI1   & 61.0  & 59    & 2804  & 5.68  & 5.70  & 3.47 \\\\\n",
       "\t 0.72  & Ideal & D     & SI1   & 62.2  & 56    & 2804  & 5.74  & 5.77  & 3.58 \\\\\n",
       "\t 0.72  & Ideal & D     & SI1   & 61.5  & 54    & 2804  & 5.77  & 5.80  & 3.56 \\\\\n",
       "\t 0.74  & Ideal & D     & SI2   & 61.7  & 55    & 2810  & 5.81  & 5.85  & 3.60 \\\\\n",
       "\t 0.71  & Ideal & D     & SI1   & 62.4  & 57    & 2812  & 5.69  & 5.72  & 3.56 \\\\\n",
       "\t 0.70  & Ideal & D     & SI1   & 60.7  & 56    & 2822  & 5.75  & 5.72  & 3.48 \\\\\n",
       "\t 0.71  & Ideal & D     & SI1   & 60.2  & 56    & 2822  & 5.86  & 5.83  & 3.52 \\\\\n",
       "\t 0.70  & Ideal & D     & SI1   & 59.7  & 58    & 2822  & 5.82  & 5.77  & 3.46 \\\\\n",
       "\t 0.70  & Ideal & D     & SI1   & 62.5  & 57    & 2822  & 5.62  & 5.59  & 3.51 \\\\\n",
       "\t 0.70  & Ideal & D     & SI1   & 61.8  & 56    & 2822  & 5.73  & 5.63  & 3.51 \\\\\n",
       "\t 0.70  & Ideal & D     & SI1   & 61.4  & 54    & 2822  & 5.75  & 5.71  & 3.52 \\\\\n",
       "\t 0.70  & Ideal & D     & SI2   & 60.6  & 57    & 2828  & 5.74  & 5.77  & 3.49 \\\\\n",
       "\t 0.70  & Ideal & D     & VS2   & 61.0  & 57    & 2833  & 5.74  & 5.76  & 3.51 \\\\\n",
       "\t 0.92  & Ideal & D     & SI2   & 61.9  & 56    & 2840  & 6.27  & 6.20  & 3.86 \\\\\n",
       "\t 0.73  & Ideal & D     & SI1   & 61.4  & 57    & 2841  & 5.76  & 5.80  & 3.55 \\\\\n",
       "\t 0.79  & Ideal & D     & SI1   & 61.5  & 56    & 2846  & 5.96  & 5.91  & 3.65 \\\\\n",
       "\t 0.54  & Ideal & D     & VVS2  & 61.5  & 55    & 2848  & 5.25  & 5.29  & 3.24 \\\\\n",
       "\t ... & ... & ... & ... & ... & ... & ... & ... & ... & ...\\\\\n",
       "\t 0.30  & Ideal & D     & SI1   & 61.9  & 56    &  552  & 4.28  & 4.31  & 2.66 \\\\\n",
       "\t 0.30  & Ideal & D     & SI1   & 62.0  & 56    &  552  & 4.30  & 4.34  & 2.68 \\\\\n",
       "\t 0.30  & Ideal & D     & SI1   & 61.0  & 54    &  552  & 4.34  & 4.35  & 2.65 \\\\\n",
       "\t 0.30  & Ideal & D     & SI1   & 61.9  & 54    &  552  & 4.32  & 4.34  & 2.68 \\\\\n",
       "\t 0.30  & Ideal & D     & SI1   & 61.6  & 56    &  552  & 4.30  & 4.34  & 2.66 \\\\\n",
       "\t 0.30  & Ideal & D     & SI1   & 61.6  & 57    &  552  & 4.28  & 4.32  & 2.65 \\\\\n",
       "\t 0.30  & Ideal & D     & SI1   & 61.0  & 57    &  552  & 4.29  & 4.33  & 2.63 \\\\\n",
       "\t 0.30  & Ideal & D     & SI1   & 61.0  & 56    &  552  & 4.35  & 4.37  & 2.66 \\\\\n",
       "\t 0.76  & Ideal & D     & SI2   & 62.2  & 57    & 2706  & 5.85  & 5.83  & 3.63 \\\\\n",
       "\t 0.73  & Ideal & D     & SI2   & 62.4  & 56    & 2707  & 5.77  & 5.74  & 3.59 \\\\\n",
       "\t 0.51  & Ideal & D     & VVS2  & 61.7  & 56    & 2718  & 5.14  & 5.16  & 3.18 \\\\\n",
       "\t 0.51  & Ideal & D     & VVS2  & 61.3  & 57    & 2718  & 5.14  & 5.17  & 3.16 \\\\\n",
       "\t 0.71  & Ideal & D     & SI1   & 62.5  & 55    & 2719  & 5.69  & 5.74  & 3.57 \\\\\n",
       "\t 0.71  & Ideal & D     & SI1   & 61.5  & 56    & 2719  & 5.70  & 5.75  & 3.52 \\\\\n",
       "\t 0.55  & Ideal & D     & VVS2  & 61.6  & 56    & 2720  & 5.23  & 5.29  & 3.24 \\\\\n",
       "\t 0.78  & Ideal & D     & SI2   & 61.3  & 56    & 2722  & 5.95  & 5.99  & 3.66 \\\\\n",
       "\t 0.74  & Ideal & D     & SI1   & 62.2  & 56    & 2723  & 5.82  & 5.78  & 3.61 \\\\\n",
       "\t 0.75  & Ideal & D     & SI2   & 60.3  & 57    & 2726  & 5.85  & 5.89  & 3.54 \\\\\n",
       "\t 0.70  & Ideal & D     & SI1   & 62.3  & 53    & 2726  & 5.70  & 5.72  & 3.56 \\\\\n",
       "\t 0.70  & Ideal & D     & SI1   & 62.0  & 54    & 2726  & 5.73  & 5.76  & 3.56 \\\\\n",
       "\t 0.70  & Ideal & D     & SI1   & 62.5  & 55    & 2726  & 5.68  & 5.72  & 3.56 \\\\\n",
       "\t 0.73  & Ideal & D     & SI2   & 61.8  & 56    & 2729  & 5.77  & 5.82  & 3.58 \\\\\n",
       "\t 0.72  & Ideal & D     & SI1   & 61.6  & 55    & 2731  & 5.75  & 5.80  & 3.56 \\\\\n",
       "\t 0.53  & Ideal & D     & VVS1  & 62.0  & 57    & 2732  & 5.16  & 5.20  & 3.21 \\\\\n",
       "\t 0.56  & Ideal & D     & VS1   & 61.1  & 56    & 2741  & 5.30  & 5.33  & 3.25 \\\\\n",
       "\t 0.51  & Ideal & D     & VVS2  & 61.7  & 56    & 2742  & 5.16  & 5.14  & 3.18 \\\\\n",
       "\t 0.51  & Ideal & D     & VVS2  & 61.3  & 57    & 2742  & 5.17  & 5.14  & 3.16 \\\\\n",
       "\t 0.81  & Ideal & D     & SI1   & 61.5  & 57    & 2748  & 6.00  & 6.03  & 3.70 \\\\\n",
       "\t 0.72  & Ideal & D     & SI1   & 60.8  & 57    & 2757  & 5.75  & 5.76  & 3.50 \\\\\n",
       "\t 0.75  & Ideal & D     & SI2   & 62.2  & 55    & 2757  & 5.83  & 5.87  & 3.64 \\\\\n",
       "\\end{tabular}\n"
      ],
      "text/markdown": [
       "\n",
       "carat | cut | color | clarity | depth | table | price | x | y | z | \n",
       "|---|---|---|---|---|---|---|---|---|---|---|---|---|---|---|---|---|---|---|---|---|---|---|---|---|---|---|---|---|---|---|---|---|---|---|---|---|---|---|---|---|---|---|---|---|---|---|---|---|---|---|---|---|---|---|---|---|---|---|---|---|\n",
       "| 0.30  | Ideal | D     | SI1   | 62.5  | 57    |  552  | 4.29  | 4.32  | 2.69  | \n",
       "| 0.30  | Ideal | D     | SI1   | 62.1  | 56    |  552  | 4.30  | 4.33  | 2.68  | \n",
       "| 0.71  | Ideal | D     | SI2   | 62.3  | 56    | 2762  | 5.73  | 5.69  | 3.56  | \n",
       "| 0.71  | Ideal | D     | SI1   | 61.9  | 59    | 2764  | 5.69  | 5.72  | 3.53  | \n",
       "| 0.71  | Ideal | D     | SI2   | 61.6  | 55    | 2767  | 5.74  | 5.76  | 3.54  | \n",
       "| 0.76  | Ideal | D     | SI2   | 62.4  | 57    | 2770  | 5.78  | 5.83  | 3.62  | \n",
       "| 0.73  | Ideal | D     | SI2   | 59.9  | 57    | 2770  | 5.92  | 5.89  | 3.54  | \n",
       "| 0.75  | Ideal | D     | SI2   | 61.3  | 56    | 2773  | 5.85  | 5.89  | 3.60  | \n",
       "| 0.72  | Ideal | D     | SI1   | 60.8  | 57    | 2782  | 5.76  | 5.75  | 3.50  | \n",
       "| 0.64  | Ideal | D     | VS1   | 61.5  | 56    | 2787  | 5.54  | 5.55  | 3.41  | \n",
       "| 0.51  | Ideal | D     | VVS1  | 61.7  | 56    | 2797  | 5.12  | 5.16  | 3.17  | \n",
       "| 0.78  | Ideal | D     | SI1   | 61.9  | 57    | 2799  | 5.91  | 5.86  | 3.64  | \n",
       "| 0.91  | Ideal | D     | SI2   | 62.2  | 57    | 2803  | 6.21  | 6.15  | 3.85  | \n",
       "| 0.70  | Ideal | D     | SI1   | 61.0  | 59    | 2804  | 5.68  | 5.70  | 3.47  | \n",
       "| 0.72  | Ideal | D     | SI1   | 62.2  | 56    | 2804  | 5.74  | 5.77  | 3.58  | \n",
       "| 0.72  | Ideal | D     | SI1   | 61.5  | 54    | 2804  | 5.77  | 5.80  | 3.56  | \n",
       "| 0.74  | Ideal | D     | SI2   | 61.7  | 55    | 2810  | 5.81  | 5.85  | 3.60  | \n",
       "| 0.71  | Ideal | D     | SI1   | 62.4  | 57    | 2812  | 5.69  | 5.72  | 3.56  | \n",
       "| 0.70  | Ideal | D     | SI1   | 60.7  | 56    | 2822  | 5.75  | 5.72  | 3.48  | \n",
       "| 0.71  | Ideal | D     | SI1   | 60.2  | 56    | 2822  | 5.86  | 5.83  | 3.52  | \n",
       "| 0.70  | Ideal | D     | SI1   | 59.7  | 58    | 2822  | 5.82  | 5.77  | 3.46  | \n",
       "| 0.70  | Ideal | D     | SI1   | 62.5  | 57    | 2822  | 5.62  | 5.59  | 3.51  | \n",
       "| 0.70  | Ideal | D     | SI1   | 61.8  | 56    | 2822  | 5.73  | 5.63  | 3.51  | \n",
       "| 0.70  | Ideal | D     | SI1   | 61.4  | 54    | 2822  | 5.75  | 5.71  | 3.52  | \n",
       "| 0.70  | Ideal | D     | SI2   | 60.6  | 57    | 2828  | 5.74  | 5.77  | 3.49  | \n",
       "| 0.70  | Ideal | D     | VS2   | 61.0  | 57    | 2833  | 5.74  | 5.76  | 3.51  | \n",
       "| 0.92  | Ideal | D     | SI2   | 61.9  | 56    | 2840  | 6.27  | 6.20  | 3.86  | \n",
       "| 0.73  | Ideal | D     | SI1   | 61.4  | 57    | 2841  | 5.76  | 5.80  | 3.55  | \n",
       "| 0.79  | Ideal | D     | SI1   | 61.5  | 56    | 2846  | 5.96  | 5.91  | 3.65  | \n",
       "| 0.54  | Ideal | D     | VVS2  | 61.5  | 55    | 2848  | 5.25  | 5.29  | 3.24  | \n",
       "| ... | ... | ... | ... | ... | ... | ... | ... | ... | ... | \n",
       "| 0.30  | Ideal | D     | SI1   | 61.9  | 56    |  552  | 4.28  | 4.31  | 2.66  | \n",
       "| 0.30  | Ideal | D     | SI1   | 62.0  | 56    |  552  | 4.30  | 4.34  | 2.68  | \n",
       "| 0.30  | Ideal | D     | SI1   | 61.0  | 54    |  552  | 4.34  | 4.35  | 2.65  | \n",
       "| 0.30  | Ideal | D     | SI1   | 61.9  | 54    |  552  | 4.32  | 4.34  | 2.68  | \n",
       "| 0.30  | Ideal | D     | SI1   | 61.6  | 56    |  552  | 4.30  | 4.34  | 2.66  | \n",
       "| 0.30  | Ideal | D     | SI1   | 61.6  | 57    |  552  | 4.28  | 4.32  | 2.65  | \n",
       "| 0.30  | Ideal | D     | SI1   | 61.0  | 57    |  552  | 4.29  | 4.33  | 2.63  | \n",
       "| 0.30  | Ideal | D     | SI1   | 61.0  | 56    |  552  | 4.35  | 4.37  | 2.66  | \n",
       "| 0.76  | Ideal | D     | SI2   | 62.2  | 57    | 2706  | 5.85  | 5.83  | 3.63  | \n",
       "| 0.73  | Ideal | D     | SI2   | 62.4  | 56    | 2707  | 5.77  | 5.74  | 3.59  | \n",
       "| 0.51  | Ideal | D     | VVS2  | 61.7  | 56    | 2718  | 5.14  | 5.16  | 3.18  | \n",
       "| 0.51  | Ideal | D     | VVS2  | 61.3  | 57    | 2718  | 5.14  | 5.17  | 3.16  | \n",
       "| 0.71  | Ideal | D     | SI1   | 62.5  | 55    | 2719  | 5.69  | 5.74  | 3.57  | \n",
       "| 0.71  | Ideal | D     | SI1   | 61.5  | 56    | 2719  | 5.70  | 5.75  | 3.52  | \n",
       "| 0.55  | Ideal | D     | VVS2  | 61.6  | 56    | 2720  | 5.23  | 5.29  | 3.24  | \n",
       "| 0.78  | Ideal | D     | SI2   | 61.3  | 56    | 2722  | 5.95  | 5.99  | 3.66  | \n",
       "| 0.74  | Ideal | D     | SI1   | 62.2  | 56    | 2723  | 5.82  | 5.78  | 3.61  | \n",
       "| 0.75  | Ideal | D     | SI2   | 60.3  | 57    | 2726  | 5.85  | 5.89  | 3.54  | \n",
       "| 0.70  | Ideal | D     | SI1   | 62.3  | 53    | 2726  | 5.70  | 5.72  | 3.56  | \n",
       "| 0.70  | Ideal | D     | SI1   | 62.0  | 54    | 2726  | 5.73  | 5.76  | 3.56  | \n",
       "| 0.70  | Ideal | D     | SI1   | 62.5  | 55    | 2726  | 5.68  | 5.72  | 3.56  | \n",
       "| 0.73  | Ideal | D     | SI2   | 61.8  | 56    | 2729  | 5.77  | 5.82  | 3.58  | \n",
       "| 0.72  | Ideal | D     | SI1   | 61.6  | 55    | 2731  | 5.75  | 5.80  | 3.56  | \n",
       "| 0.53  | Ideal | D     | VVS1  | 62.0  | 57    | 2732  | 5.16  | 5.20  | 3.21  | \n",
       "| 0.56  | Ideal | D     | VS1   | 61.1  | 56    | 2741  | 5.30  | 5.33  | 3.25  | \n",
       "| 0.51  | Ideal | D     | VVS2  | 61.7  | 56    | 2742  | 5.16  | 5.14  | 3.18  | \n",
       "| 0.51  | Ideal | D     | VVS2  | 61.3  | 57    | 2742  | 5.17  | 5.14  | 3.16  | \n",
       "| 0.81  | Ideal | D     | SI1   | 61.5  | 57    | 2748  | 6.00  | 6.03  | 3.70  | \n",
       "| 0.72  | Ideal | D     | SI1   | 60.8  | 57    | 2757  | 5.75  | 5.76  | 3.50  | \n",
       "| 0.75  | Ideal | D     | SI2   | 62.2  | 55    | 2757  | 5.83  | 5.87  | 3.64  | \n",
       "\n",
       "\n"
      ],
      "text/plain": [
       "     carat cut   color clarity depth table price x    y    z   \n",
       "1    0.30  Ideal D     SI1     62.5  57     552  4.29 4.32 2.69\n",
       "2    0.30  Ideal D     SI1     62.1  56     552  4.30 4.33 2.68\n",
       "3    0.71  Ideal D     SI2     62.3  56    2762  5.73 5.69 3.56\n",
       "4    0.71  Ideal D     SI1     61.9  59    2764  5.69 5.72 3.53\n",
       "5    0.71  Ideal D     SI2     61.6  55    2767  5.74 5.76 3.54\n",
       "6    0.76  Ideal D     SI2     62.4  57    2770  5.78 5.83 3.62\n",
       "7    0.73  Ideal D     SI2     59.9  57    2770  5.92 5.89 3.54\n",
       "8    0.75  Ideal D     SI2     61.3  56    2773  5.85 5.89 3.60\n",
       "9    0.72  Ideal D     SI1     60.8  57    2782  5.76 5.75 3.50\n",
       "10   0.64  Ideal D     VS1     61.5  56    2787  5.54 5.55 3.41\n",
       "11   0.51  Ideal D     VVS1    61.7  56    2797  5.12 5.16 3.17\n",
       "12   0.78  Ideal D     SI1     61.9  57    2799  5.91 5.86 3.64\n",
       "13   0.91  Ideal D     SI2     62.2  57    2803  6.21 6.15 3.85\n",
       "14   0.70  Ideal D     SI1     61.0  59    2804  5.68 5.70 3.47\n",
       "15   0.72  Ideal D     SI1     62.2  56    2804  5.74 5.77 3.58\n",
       "16   0.72  Ideal D     SI1     61.5  54    2804  5.77 5.80 3.56\n",
       "17   0.74  Ideal D     SI2     61.7  55    2810  5.81 5.85 3.60\n",
       "18   0.71  Ideal D     SI1     62.4  57    2812  5.69 5.72 3.56\n",
       "19   0.70  Ideal D     SI1     60.7  56    2822  5.75 5.72 3.48\n",
       "20   0.71  Ideal D     SI1     60.2  56    2822  5.86 5.83 3.52\n",
       "21   0.70  Ideal D     SI1     59.7  58    2822  5.82 5.77 3.46\n",
       "22   0.70  Ideal D     SI1     62.5  57    2822  5.62 5.59 3.51\n",
       "23   0.70  Ideal D     SI1     61.8  56    2822  5.73 5.63 3.51\n",
       "24   0.70  Ideal D     SI1     61.4  54    2822  5.75 5.71 3.52\n",
       "25   0.70  Ideal D     SI2     60.6  57    2828  5.74 5.77 3.49\n",
       "26   0.70  Ideal D     VS2     61.0  57    2833  5.74 5.76 3.51\n",
       "27   0.92  Ideal D     SI2     61.9  56    2840  6.27 6.20 3.86\n",
       "28   0.73  Ideal D     SI1     61.4  57    2841  5.76 5.80 3.55\n",
       "29   0.79  Ideal D     SI1     61.5  56    2846  5.96 5.91 3.65\n",
       "30   0.54  Ideal D     VVS2    61.5  55    2848  5.25 5.29 3.24\n",
       "...  ...   ...   ...   ...     ...   ...   ...   ...  ...  ... \n",
       "2805 0.30  Ideal D     SI1     61.9  56     552  4.28 4.31 2.66\n",
       "2806 0.30  Ideal D     SI1     62.0  56     552  4.30 4.34 2.68\n",
       "2807 0.30  Ideal D     SI1     61.0  54     552  4.34 4.35 2.65\n",
       "2808 0.30  Ideal D     SI1     61.9  54     552  4.32 4.34 2.68\n",
       "2809 0.30  Ideal D     SI1     61.6  56     552  4.30 4.34 2.66\n",
       "2810 0.30  Ideal D     SI1     61.6  57     552  4.28 4.32 2.65\n",
       "2811 0.30  Ideal D     SI1     61.0  57     552  4.29 4.33 2.63\n",
       "2812 0.30  Ideal D     SI1     61.0  56     552  4.35 4.37 2.66\n",
       "2813 0.76  Ideal D     SI2     62.2  57    2706  5.85 5.83 3.63\n",
       "2814 0.73  Ideal D     SI2     62.4  56    2707  5.77 5.74 3.59\n",
       "2815 0.51  Ideal D     VVS2    61.7  56    2718  5.14 5.16 3.18\n",
       "2816 0.51  Ideal D     VVS2    61.3  57    2718  5.14 5.17 3.16\n",
       "2817 0.71  Ideal D     SI1     62.5  55    2719  5.69 5.74 3.57\n",
       "2818 0.71  Ideal D     SI1     61.5  56    2719  5.70 5.75 3.52\n",
       "2819 0.55  Ideal D     VVS2    61.6  56    2720  5.23 5.29 3.24\n",
       "2820 0.78  Ideal D     SI2     61.3  56    2722  5.95 5.99 3.66\n",
       "2821 0.74  Ideal D     SI1     62.2  56    2723  5.82 5.78 3.61\n",
       "2822 0.75  Ideal D     SI2     60.3  57    2726  5.85 5.89 3.54\n",
       "2823 0.70  Ideal D     SI1     62.3  53    2726  5.70 5.72 3.56\n",
       "2824 0.70  Ideal D     SI1     62.0  54    2726  5.73 5.76 3.56\n",
       "2825 0.70  Ideal D     SI1     62.5  55    2726  5.68 5.72 3.56\n",
       "2826 0.73  Ideal D     SI2     61.8  56    2729  5.77 5.82 3.58\n",
       "2827 0.72  Ideal D     SI1     61.6  55    2731  5.75 5.80 3.56\n",
       "2828 0.53  Ideal D     VVS1    62.0  57    2732  5.16 5.20 3.21\n",
       "2829 0.56  Ideal D     VS1     61.1  56    2741  5.30 5.33 3.25\n",
       "2830 0.51  Ideal D     VVS2    61.7  56    2742  5.16 5.14 3.18\n",
       "2831 0.51  Ideal D     VVS2    61.3  57    2742  5.17 5.14 3.16\n",
       "2832 0.81  Ideal D     SI1     61.5  57    2748  6.00 6.03 3.70\n",
       "2833 0.72  Ideal D     SI1     60.8  57    2757  5.75 5.76 3.50\n",
       "2834 0.75  Ideal D     SI2     62.2  55    2757  5.83 5.87 3.64"
      ]
     },
     "metadata": {},
     "output_type": "display_data"
    }
   ],
   "source": [
    "filter(diamonds,color=='D', cut=='Ideal')"
   ]
  }
 ],
 "metadata": {
  "kernelspec": {
   "display_name": "R",
   "language": "R",
   "name": "ir"
  },
  "language_info": {
   "codemirror_mode": "r",
   "file_extension": ".r",
   "mimetype": "text/x-r-source",
   "name": "R",
   "pygments_lexer": "r",
   "version": "3.3.2"
  }
 },
 "nbformat": 4,
 "nbformat_minor": 2
}
