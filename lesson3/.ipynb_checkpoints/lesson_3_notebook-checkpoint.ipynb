{
 "cells": [
  {
   "cell_type": "markdown",
   "metadata": {},
   "source": [
    "# Box Plot"
   ]
  },
  {
   "cell_type": "code",
   "execution_count": 3,
   "metadata": {
    "collapsed": false
   },
   "outputs": [],
   "source": [
    "#import the dataset\n",
    "\n",
    "pf<-read.csv('pseudo_facebook.tsv',sep = \"\\t\")\n",
    "library(ggplot2)"
   ]
  },
  {
   "cell_type": "code",
   "execution_count": 9,
   "metadata": {
    "collapsed": false,
    "scrolled": true
   },
   "outputs": [
    {
     "data": {},
     "metadata": {},
     "output_type": "display_data"
    },
    {
     "data": {
      "image/png": "[encoded data removed]",
      "text/plain": [
       "plot without title"
      ]
     },
     "metadata": {},
     "output_type": "display_data"
    }
   ],
   "source": [
    "#plot boxplot\n",
    "\n",
    "qplot(x=gender,y=friend_count,\n",
    "      data=subset(pf,!is.na(gender)),\n",
    "      geom = 'boxplot')+\n",
    "coord_cartesian(ylim = c(0,250))\n",
    "\n",
    "#Y lim removes data points and makes the plot inaccurate\n",
    "#coord_cartesian() will zoom it for us without losing this removal of points\n"
   ]
  },
  {
   "cell_type": "markdown",
   "metadata": {},
   "source": [
    "\n",
    "What is an outlier ? \n",
    "\n",
    "1.5 times greater than upper quartile of the boxplot\n",
    "1.5 times less than lower quartile of the boxplot\n",
    "\n",
    "Structure of boxplot\n",
    "\n",
    "Minimum \n",
    "Lower Quatile - 25 % data is less than this value\n",
    "Median - Middle of the dataset, 50% of data is greater than this value\n",
    "Upper quartile - 25 % of data is greater than this value\n",
    "Maximum"
   ]
  },
  {
   "cell_type": "code",
   "execution_count": 8,
   "metadata": {
    "collapsed": false,
    "scrolled": true
   },
   "outputs": [
    {
     "data": {
      "text/html": [
       "30"
      ],
      "text/latex": [
       "30"
      ],
      "text/markdown": [
       "30"
      ],
      "text/plain": [
       "[1] 30"
      ]
     },
     "metadata": {},
     "output_type": "display_data"
    },
    {
     "data": {
      "text/plain": [
       "   Min. 1st Qu.  Median    Mean 3rd Qu.    Max. \n",
       "  13.00   20.00   28.00   37.28   50.00  113.00 "
      ]
     },
     "metadata": {},
     "output_type": "display_data"
    }
   ],
   "source": [
    "IQR(pf$age)\n",
    "summary(pf$age)"
   ]
  },
  {
   "cell_type": "code",
   "execution_count": 12,
   "metadata": {
    "collapsed": false
   },
   "outputs": [
    {
     "data": {
      "text/plain": [
       "pf$gender: female\n",
       "   Min. 1st Qu.  Median    Mean 3rd Qu.    Max. \n",
       "      0      37      96     242     244    4923 \n",
       "------------------------------------------------------------ \n",
       "pf$gender: male\n",
       "   Min. 1st Qu.  Median    Mean 3rd Qu.    Max. \n",
       "      0      27      74     165     182    4917 "
      ]
     },
     "metadata": {},
     "output_type": "display_data"
    }
   ],
   "source": [
    "by(pf$friend_count,pf$gender,summary)"
   ]
  },
  {
   "cell_type": "markdown",
   "metadata": {},
   "source": [
    "Many assumptions can be made from the box plot, like :\n",
    "\n",
    "This means, 75% of women have less than 242 friends\n",
    "Only 25 % of men have less than 27 friends\n",
    "\n"
   ]
  },
  {
   "cell_type": "markdown",
   "metadata": {
    "collapsed": true
   },
   "source": [
    "# Usage of log plots \n",
    "\n",
    "On long tailed distributions\n",
    "\n",
    "ie. the distribution has very small and very large values\n",
    "\n",
    "Statistically speaking its called \"overdispersed\" "
   ]
  },
  {
   "cell_type": "code",
   "execution_count": 4,
   "metadata": {
    "collapsed": false
   },
   "outputs": [
    {
     "name": "stderr",
     "output_type": "stream",
     "text": [
      "`stat_bin()` using `bins = 30`. Pick better value with `binwidth`.\n"
     ]
    },
    {
     "data": {},
     "metadata": {},
     "output_type": "display_data"
    },
    {
     "data": {
      "image/png": "[encoded data removed]",
      "text/plain": [
       "plot without title"
      ]
     },
     "metadata": {},
     "output_type": "display_data"
    }
   ],
   "source": [
    "qplot(x=friend_count, data=pf)"
   ]
  },
  {
   "cell_type": "code",
   "execution_count": 5,
   "metadata": {
    "collapsed": false
   },
   "outputs": [
    {
     "data": {
      "text/plain": [
       "   Min. 1st Qu.  Median    Mean 3rd Qu.    Max. \n",
       "    0.0    31.0    82.0   196.4   206.0  4923.0 "
      ]
     },
     "metadata": {},
     "output_type": "display_data"
    }
   ],
   "source": [
    "summary(pf$friend_count)"
   ]
  },
  {
   "cell_type": "code",
   "execution_count": 6,
   "metadata": {
    "collapsed": false
   },
   "outputs": [
    {
     "data": {
      "text/plain": [
       "   Min. 1st Qu.  Median    Mean 3rd Qu.    Max. \n",
       "   -Inf   1.491   1.914    -Inf   2.314   3.692 "
      ]
     },
     "metadata": {},
     "output_type": "display_data"
    }
   ],
   "source": [
    "summary(log10(pf$friend_count))"
   ]
  },
  {
   "cell_type": "markdown",
   "metadata": {},
   "source": [
    "Here as we see, there is a problem. \"-Inf\" as Min and Mean\n",
    "\n",
    "To avoid it, we may add a bias"
   ]
  },
  {
   "cell_type": "code",
   "execution_count": 9,
   "metadata": {
    "collapsed": false
   },
   "outputs": [
    {
     "data": {
      "text/plain": [
       "   Min. 1st Qu.  Median    Mean 3rd Qu.    Max. \n",
       "  0.000   1.505   1.919   1.868   2.316   3.692 "
      ]
     },
     "metadata": {},
     "output_type": "display_data"
    }
   ],
   "source": [
    "summary(log10(pf$friend_count+1))"
   ]
  },
  {
   "cell_type": "code",
   "execution_count": 10,
   "metadata": {
    "collapsed": false
   },
   "outputs": [
    {
     "data": {
      "text/plain": [
       "   Min. 1st Qu.  Median    Mean 3rd Qu.    Max. \n",
       "  1.000   5.657   9.110  11.180  14.390  70.170 "
      ]
     },
     "metadata": {},
     "output_type": "display_data"
    }
   ],
   "source": [
    "summary(sqrt(pf$friend_count+1))"
   ]
  },
  {
   "cell_type": "markdown",
   "metadata": {},
   "source": [
    "Another variation is sqrt"
   ]
  },
  {
   "cell_type": "markdown",
   "metadata": {},
   "source": [
    "# Creating multiple plots in one graph"
   ]
  },
  {
   "cell_type": "code",
   "execution_count": 20,
   "metadata": {
    "collapsed": false
   },
   "outputs": [
    {
     "ename": "ERROR",
     "evalue": "Error in +scale_x_log10(): invalid argument to unary operator\n",
     "output_type": "error",
     "traceback": [
      "Error in +scale_x_log10(): invalid argument to unary operator\nTraceback:\n"
     ]
    }
   ],
   "source": [
    "# define individual plots\n",
    "library(gridExtra)\n",
    "p1 = qplot(x=friend_count,data = pf)\n",
    "p2 = qplot(x=pf$friend_count+1,data = pf)+\n",
    "+scale_x_log10()\n",
    "ggplot(, aes(rating, votes)) +\n",
    "  scale_x_log10() +\n",
    "  scale_y_log10()\n",
    "p3 = qplot(x=pf$friend_count,data = pf)+\n",
    " + scale_x_sqrt()\n",
    "# p4 = ggplot(...)\n",
    "# arrange plots in grid\n",
    "grid.arrange(p1, p2,p3, ncol=1)"
   ]
  }
 ],
 "metadata": {
  "kernelspec": {
   "display_name": "R",
   "language": "R",
   "name": "ir"
  },
  "language_info": {
   "codemirror_mode": "r",
   "file_extension": ".r",
   "mimetype": "text/x-r-source",
   "name": "R",
   "pygments_lexer": "r",
   "version": "3.3.2"
  }
 },
 "nbformat": 4,
 "nbformat_minor": 2
}
